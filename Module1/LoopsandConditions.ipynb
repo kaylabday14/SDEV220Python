{
 "cells": [
  {
   "cell_type": "markdown",
   "metadata": {},
   "source": [
    "# Module 2 Programming Assignment: Loops and Conditionals\n",
    "\n",
    "*Table of Contents*\n",
    "- [4.1 Number guess IF](LoopsandConditions.ipynb#41-guess-the-number-if-statement)\n",
    "- [6.2 Number guess LOOP](LoopsandConditions.ipynb#41-guess-the-number-loop)\n",
    "- [4.2 Fruit guesser](LoopsandConditions.ipynb#42-fruit-guesser)\n",
    "- [6.1 Print list](LoopsandConditions.ipynb#61-print-list-with-for-loop)"
   ]
  },
  {
   "cell_type": "markdown",
   "metadata": {},
   "source": [
    "## 4.1 Guess the Number (if statement)"
   ]
  },
  {
   "cell_type": "code",
   "execution_count": 5,
   "metadata": {},
   "outputs": [
    {
     "name": "stdout",
     "output_type": "stream",
     "text": [
      "too high\n"
     ]
    }
   ],
   "source": [
    "secret: int = 14\n",
    "guess = int(input('Enter your best guess between 1 - 100: '))\n",
    "\n",
    "if secret == guess:\n",
    "    print('That is correct!')\n",
    "elif secret > guess:\n",
    "    print('too low')\n",
    "elif secret < guess:\n",
    "    print('too high')"
   ]
  },
  {
   "cell_type": "markdown",
   "metadata": {},
   "source": [
    "## 6.2 Guess the Number (loop)"
   ]
  },
  {
   "cell_type": "code",
   "execution_count": 11,
   "metadata": {},
   "outputs": [
    {
     "name": "stdout",
     "output_type": "stream",
     "text": [
      "too low\n",
      "too low\n",
      "too high\n",
      "Better luck next time!\n"
     ]
    }
   ],
   "source": [
    "secret: int = 14\n",
    "guess = input('Enter your best guess between 1 - 100. Or enter any letter to quit.: ')\n",
    "while guess != secret:\n",
    "    if str.isnumeric(guess): # isnumeric is a method that checks if the data stored in the variable is a number.\n",
    "        guess = int(guess)\n",
    "    else: \n",
    "        break # break the loop if a number is not entered.\n",
    "\n",
    "    if secret > guess:\n",
    "        print('too low')\n",
    "        guess = input('Enter a number 1 - 100. Or enter any letter to quit.: ')\n",
    "    elif secret < guess:\n",
    "        print('too high')\n",
    "        guess = input('Enter a number 1 - 100. Or enter any letter to quit.: ')\n",
    "\n",
    "# this runs after the loop ends\n",
    "# loop ends if the correct number is guessed, or if purposely ending the game by typing a non numberic character.\n",
    "if guess == secret:\n",
    "    print('That is correct!') # print statement from correct guess\n",
    "else:\n",
    "    print('Better luck next time!') # print statement as a result of quitting the guessing game\n",
    "\n"
   ]
  },
  {
   "cell_type": "markdown",
   "metadata": {},
   "source": [
    "## 4.2 Fruit guesser"
   ]
  },
  {
   "cell_type": "code",
   "execution_count": 25,
   "metadata": {},
   "outputs": [
    {
     "name": "stdout",
     "output_type": "stream",
     "text": [
      "Pick a fruit from the following:\n",
      "apple\n",
      "banana\n",
      "orange\n",
      "watermelon\n",
      "pumpkin\n",
      "pineapple\n",
      "lime\n",
      "cherry\n",
      "You picked the cherry!\n"
     ]
    }
   ],
   "source": [
    "fruits = ('apple', 'banana', 'orange', 'watermelon', 'pumpkin', 'pineapple', 'lime', 'cherry')\n",
    "print('Pick a fruit from the following:')\n",
    "i = 0\n",
    "for fruit in fruits:\n",
    "    print(fruits[i])\n",
    "    i += 1\n",
    "\n",
    "color: str = input('Is the color of your fruit green, red, orange, or yellow? ').lower()\n",
    "while color not in ['green', 'red', 'orange', 'yellow', 'q']:\n",
    "    color = input('Perhaps you made a spelling error? Please re-enter the color of your fruit or \"q\" to quit: ').lower()\n",
    "\n",
    "size: str = input('Is the fruit small or large?: ').lower()\n",
    "while size not in ['small', 'large', 'q']:\n",
    "    size = input('Perhaps you made a spelling error? Please re-enter the size of your fruit or \"q\" to quit: ').lower()\n",
    "\n",
    "\n",
    "if size == 'small':\n",
    "    if color == 'green':\n",
    "        print('You picked the lime!')\n",
    "    elif color == 'orange':\n",
    "        print('You picked the orange!')\n",
    "    elif color == 'yellow':\n",
    "        print('You picked the banana!')\n",
    "    elif color == 'red':\n",
    "        print('You picked the cherry!')\n",
    "    else:\n",
    "        print('I have no idea what you chose!')\n",
    "\n",
    "if size == 'large':\n",
    "    if color == 'green':\n",
    "        print('You picked the watermelon!')\n",
    "    elif color == 'orange':\n",
    "        print('You picked the pumpkin!')\n",
    "    elif color == 'yellow':\n",
    "        print('You picked the pineapple!')\n",
    "    elif color == 'red':\n",
    "        print('You picked the apple!')\n",
    "    else:\n",
    "        print('I have no idea what you chose!')\n",
    "    \n"
   ]
  },
  {
   "cell_type": "markdown",
   "metadata": {},
   "source": [
    "## 6.1 Print list with for loop"
   ]
  },
  {
   "cell_type": "code",
   "execution_count": 31,
   "metadata": {},
   "outputs": [
    {
     "name": "stdout",
     "output_type": "stream",
     "text": [
      "Numbers in the list:\n",
      "7\n",
      "10\n",
      "25\n",
      "87\n",
      "2\n",
      "Numbers from lowest to highest:\n",
      "2\n",
      "7\n",
      "10\n",
      "25\n",
      "87\n",
      "Numbers hightest to lowest:\n",
      "87\n",
      "25\n",
      "10\n",
      "7\n",
      "2\n"
     ]
    }
   ],
   "source": [
    "lst: int = [7, 10, 25, 87, 2]\n",
    "print('Numbers in the list:')\n",
    "i = 0\n",
    "for number in lst:\n",
    "    print(lst[i])\n",
    "    i += 1\n",
    "\n",
    "print('Numbers from lowest to highest:')\n",
    "lst.sort()\n",
    "i = 0\n",
    "for number in lst:\n",
    "    print(lst[i])\n",
    "    i += 1\n",
    "\n",
    "print('Numbers hightest to lowest:')\n",
    "lst.sort(reverse = True)\n",
    "i = 0\n",
    "for number in lst:\n",
    "    print(lst[i])\n",
    "    i += 1\n"
   ]
  },
  {
   "cell_type": "markdown",
   "metadata": {},
   "source": [
    "## 6.3 Range"
   ]
  },
  {
   "cell_type": "code",
   "execution_count": 35,
   "metadata": {},
   "outputs": [
    {
     "name": "stdout",
     "output_type": "stream",
     "text": [
      "Too low!\n",
      "Too low!\n",
      "Too low!\n",
      "Too low!\n",
      "Too low!\n",
      "The number you entered was:  5\n"
     ]
    }
   ],
   "source": [
    "\n",
    "guess: int = int(input('Enter a whole number from 1-10'))\n",
    "\n",
    "for number in range(10):\n",
    "    if number < guess:\n",
    "        print(\"Too low!\")\n",
    "    elif number == guess:\n",
    "        print('The number you entered was: ', number)\n",
    "    elif number > guess:\n",
    "        (\"Oops, I missed your number.\")\n",
    "        break\n",
    "    "
   ]
  }
 ],
 "metadata": {
  "kernelspec": {
   "display_name": "Python 3",
   "language": "python",
   "name": "python3"
  },
  "language_info": {
   "codemirror_mode": {
    "name": "ipython",
    "version": 3
   },
   "file_extension": ".py",
   "mimetype": "text/x-python",
   "name": "python",
   "nbconvert_exporter": "python",
   "pygments_lexer": "ipython3",
   "version": "3.12.4"
  }
 },
 "nbformat": 4,
 "nbformat_minor": 2
}

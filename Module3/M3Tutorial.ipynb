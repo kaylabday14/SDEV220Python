{
 "cells": [
  {
   "cell_type": "markdown",
   "metadata": {},
   "source": [
    "# Sort Array"
   ]
  },
  {
   "cell_type": "code",
   "execution_count": 8,
   "metadata": {},
   "outputs": [
    {
     "name": "stdout",
     "output_type": "stream",
     "text": [
      "original list:  [0, 1, 0, 1, 1, 2, 2, 0, 0, 0]\n",
      "list in ascending order:  [0, 0, 0, 0, 0, 1, 1, 1, 2, 2]\n"
     ]
    }
   ],
   "source": [
    "arr = [0, 1, 0 ,1 ,1 , 2, 2 , 0, 0, 0]\n",
    "sorted_arr = []\n",
    "\n",
    "for number_zero in arr:\n",
    "    if number_zero == 0:\n",
    "        sorted_arr.append(number_zero)\n",
    "\n",
    "\n",
    "for number_one in arr:\n",
    "    if number_one== 1:\n",
    "        sorted_arr.append(number_one)\n",
    "\n",
    "for number_two in arr:\n",
    "    if number_two == 2:\n",
    "        sorted_arr.append(number_two)\n",
    "\n",
    "print('original list: ', arr)\n",
    "print('list in ascending order: ', sorted_arr)"
   ]
  },
  {
   "cell_type": "markdown",
   "metadata": {},
   "source": [
    "# Binary Search"
   ]
  },
  {
   "cell_type": "code",
   "execution_count": 18,
   "metadata": {},
   "outputs": [
    {
     "name": "stdout",
     "output_type": "stream",
     "text": [
      "9 is not present.\n"
     ]
    }
   ],
   "source": [
    "arr = [1, 2, 3, 4, 5]\n",
    "k = int(input('Enter a number between 1 and 9 '))\n",
    "i = 0\n",
    "length = arr[-1]\n",
    "counter = 0\n",
    "for number in arr:\n",
    "    if number == k:\n",
    "        print(f'{k} appears at index: {i}')\n",
    "    else: \n",
    "        counter += 1\n",
    "    \n",
    "    i += 1\n",
    "\n",
    "if counter == length:\n",
    "    print(f'{k} is not present.')\n"
   ]
  }
 ],
 "metadata": {
  "kernelspec": {
   "display_name": "Python 3",
   "language": "python",
   "name": "python3"
  },
  "language_info": {
   "codemirror_mode": {
    "name": "ipython",
    "version": 3
   },
   "file_extension": ".py",
   "mimetype": "text/x-python",
   "name": "python",
   "nbconvert_exporter": "python",
   "pygments_lexer": "ipython3",
   "version": "3.12.4"
  }
 },
 "nbformat": 4,
 "nbformat_minor": 2
}

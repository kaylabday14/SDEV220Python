{
 "cells": [
  {
   "cell_type": "markdown",
   "metadata": {},
   "source": [
    "13.1"
   ]
  },
  {
   "cell_type": "code",
   "execution_count": 6,
   "metadata": {},
   "outputs": [
    {
     "name": "stdout",
     "output_type": "stream",
     "text": [
      "2025-02-21 18:24:26.048328\n"
     ]
    }
   ],
   "source": [
    "import datetime as d\n",
    "\n",
    "time_now: d = d.datetime.now()\n",
    "str_time_now: str = str(time_now)\n",
    "print(str_time_now)"
   ]
  },
  {
   "cell_type": "markdown",
   "metadata": {},
   "source": [
    "13.2"
   ]
  },
  {
   "cell_type": "code",
   "execution_count": 7,
   "metadata": {},
   "outputs": [],
   "source": [
    "today_string: str = str_time_now\n"
   ]
  },
  {
   "cell_type": "markdown",
   "metadata": {},
   "source": [
    "13.3"
   ]
  },
  {
   "cell_type": "code",
   "execution_count": 8,
   "metadata": {},
   "outputs": [
    {
     "name": "stdout",
     "output_type": "stream",
     "text": [
      "2025-02-21 18:24:26.048328\n",
      "Month: 02 Day: 21 Year: 2025\n",
      "Hour: 18 Minutes: 24 Seconds: 26\n"
     ]
    }
   ],
   "source": [
    "import re\n",
    "\n",
    "hour: int = 0\n",
    "minute: int = 0\n",
    "second: int = 0\n",
    "month: int = 0\n",
    "day: int = 0  \n",
    "re_matches = re.match(r'^(\\d{4})\\-(\\d{2})\\-(\\d{2}) (\\d{2})\\:(\\d{2})\\:(\\d{2})\\.(\\d+)$', today_string)\n",
    "print(today_string)\n",
    "matches: tuple = re_matches.groups()\n",
    "print(f\"Month: {matches[1]} Day: {matches[2]} Year: {matches[0]}\")\n",
    "print(f\"Hour: {matches[3]} Minutes: {matches[4]} Seconds: {matches[5]}\")"
   ]
  },
  {
   "cell_type": "markdown",
   "metadata": {},
   "source": [
    "15.1"
   ]
  },
  {
   "cell_type": "code",
   "execution_count": 9,
   "metadata": {},
   "outputs": [
    {
     "name": "stdout",
     "output_type": "stream",
     "text": [
      "0.5312412506355244\n",
      "2025-02-21 18:24:26.753874\n",
      "0.3742294659844656\n",
      "2025-02-21 18:24:27.233489\n",
      "0.6314886185016901\n",
      "2025-02-21 18:24:28.003991\n"
     ]
    }
   ],
   "source": [
    "from os import getpid\n",
    "import multiprocessing as mp\n",
    "import random\n",
    "from datetime import datetime\n",
    "from time import sleep\n",
    "\n",
    "def mp_demo(proc_num):\n",
    "    print(\"process id: \", getpid(), \"\\nProc num: \", proc_num)\n",
    "\n",
    "if __name__ == \"__main__\":\n",
    "    for i in range(0,3):\n",
    "        num_seconds = random.random()\n",
    "        print(num_seconds)\n",
    "        p = mp.Process(target=mp_demo, args=(i,))\n",
    "        p.start()\n",
    "        p.join()\n",
    "        sleep(num_seconds)\n",
    "        print(datetime.now())"
   ]
  },
  {
   "cell_type": "markdown",
   "metadata": {},
   "source": []
  }
 ],
 "metadata": {
  "kernelspec": {
   "display_name": "Python 3",
   "language": "python",
   "name": "python3"
  },
  "language_info": {
   "codemirror_mode": {
    "name": "ipython",
    "version": 3
   },
   "file_extension": ".py",
   "mimetype": "text/x-python",
   "name": "python",
   "nbconvert_exporter": "python",
   "pygments_lexer": "ipython3",
   "version": "3.12.4"
  }
 },
 "nbformat": 4,
 "nbformat_minor": 2
}
